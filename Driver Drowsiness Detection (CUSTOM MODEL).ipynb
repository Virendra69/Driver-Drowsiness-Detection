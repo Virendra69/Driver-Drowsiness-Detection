{
 "cells": [
  {
   "cell_type": "code",
   "execution_count": 67,
   "id": "e17d9364",
   "metadata": {},
   "outputs": [],
   "source": [
    "import tensorflow as tf\n",
    "import numpy as np\n",
    "import pandas as pd\n",
    "from PIL import Image, ImageOps\n",
    "import glob"
   ]
  },
  {
   "cell_type": "code",
   "execution_count": 68,
   "id": "41c3e335",
   "metadata": {},
   "outputs": [],
   "source": [
    "drowsy = []\n",
    "non_drowsy = []\n",
    "\n",
    "for image in glob.glob(\"E:\\\\WEB DOWNLOADS\\\\DDD\\\\Driver Drowsiness Dataset (DDD)\\\\Drowsy\\*.png\"):\n",
    "    img = Image.open(image)\n",
    "    img = img.resize((50, 50))\n",
    "    img = ImageOps.grayscale(img)\n",
    "    drowsy.append(np.array(img))\n",
    "for image in glob.glob(\"E:\\\\WEB DOWNLOADS\\\\DDD\\\\Driver Drowsiness Dataset (DDD)\\\\Non Drowsy\\\\*.png\"):\n",
    "    img = Image.open(image)\n",
    "    img = img.resize((50, 50))\n",
    "    img = ImageOps.grayscale(img)\n",
    "    non_drowsy.append(np.array(img))\n",
    "drowsy = np.array(drowsy)\n",
    "non_drowsy = np.array(non_drowsy)"
   ]
  },
  {
   "cell_type": "code",
   "execution_count": 69,
   "id": "98227abe",
   "metadata": {},
   "outputs": [],
   "source": [
    "label = []\n",
    "\n",
    "for i in range(22348):\n",
    "    label.append(0)\n",
    "for i in range(19445):\n",
    "    label.append(1)\n",
    "label = np.array(label)\n",
    "label = label.reshape(-1, 1)"
   ]
  },
  {
   "cell_type": "code",
   "execution_count": 70,
   "id": "b04f8f4d",
   "metadata": {},
   "outputs": [],
   "source": [
    "X = np.concatenate((drowsy, non_drowsy), axis = 0)\n",
    "X = X / 255\n",
    "y = label"
   ]
  },
  {
   "cell_type": "code",
   "execution_count": 71,
   "id": "0a933ca3",
   "metadata": {},
   "outputs": [
    {
     "data": {
      "text/plain": [
       "(50, 50)"
      ]
     },
     "execution_count": 71,
     "metadata": {},
     "output_type": "execute_result"
    }
   ],
   "source": [
    "X[0].shape"
   ]
  },
  {
   "cell_type": "code",
   "execution_count": 72,
   "id": "fb7d06c4",
   "metadata": {},
   "outputs": [],
   "source": [
    "from sklearn.model_selection import train_test_split\n",
    "X_train, X_test, y_train, y_test = train_test_split(X, y, test_size = 0.2, shuffle = True)"
   ]
  },
  {
   "cell_type": "code",
   "execution_count": 73,
   "id": "2d97b5c0",
   "metadata": {},
   "outputs": [],
   "source": [
    "from tensorflow import keras"
   ]
  },
  {
   "cell_type": "code",
   "execution_count": 74,
   "id": "675fa98d",
   "metadata": {},
   "outputs": [],
   "source": [
    "model = keras.Sequential([\n",
    "    keras.layers.Conv2D(filters=16, kernel_size=(3, 3), padding='same', activation='relu', input_shape = (50, 50, 1)),\n",
    "    keras.layers.MaxPooling2D(),\n",
    "    keras.layers.Conv2D(filters=32, kernel_size=(3, 3), padding='same', activation='relu'),\n",
    "    keras.layers.MaxPooling2D(),\n",
    "    keras.layers.Dropout(0.5),\n",
    "    keras.layers.Flatten(),\n",
    "    keras.layers.Dense(20, activation='relu'),\n",
    "    keras.layers.Dense(10, activation='relu'),\n",
    "    keras.layers.Dense(1, activation='sigmoid')\n",
    "])"
   ]
  },
  {
   "cell_type": "code",
   "execution_count": 75,
   "id": "93d4d58b",
   "metadata": {},
   "outputs": [],
   "source": [
    "model.compile(\n",
    "    optimizer='Adam',\n",
    "    loss='binary_crossentropy',\n",
    "    metrics=['accuracy']\n",
    ")"
   ]
  },
  {
   "cell_type": "code",
   "execution_count": 76,
   "id": "7772a4ef",
   "metadata": {
    "scrolled": false
   },
   "outputs": [
    {
     "name": "stdout",
     "output_type": "stream",
     "text": [
      "Epoch 1/10\n",
      "1045/1045 [==============================] - 38s 35ms/step - loss: 0.2062 - accuracy: 0.9029\n",
      "Epoch 2/10\n",
      "1045/1045 [==============================] - 39s 38ms/step - loss: 0.0297 - accuracy: 0.9932\n",
      "Epoch 3/10\n",
      "1045/1045 [==============================] - 38s 36ms/step - loss: 0.0201 - accuracy: 0.9961\n",
      "Epoch 4/10\n",
      "1045/1045 [==============================] - 38s 36ms/step - loss: 0.0138 - accuracy: 0.9978\n",
      "Epoch 5/10\n",
      "1045/1045 [==============================] - 37s 36ms/step - loss: 0.0104 - accuracy: 0.9984\n",
      "Epoch 6/10\n",
      "1045/1045 [==============================] - 39s 37ms/step - loss: 0.0094 - accuracy: 0.9984\n",
      "Epoch 7/10\n",
      "1045/1045 [==============================] - 39s 37ms/step - loss: 0.0080 - accuracy: 0.9983\n",
      "Epoch 8/10\n",
      "1045/1045 [==============================] - 38s 36ms/step - loss: 0.0065 - accuracy: 0.9988\n",
      "Epoch 9/10\n",
      "1045/1045 [==============================] - 38s 36ms/step - loss: 0.0042 - accuracy: 0.9991\n",
      "Epoch 10/10\n",
      "1045/1045 [==============================] - 38s 37ms/step - loss: 0.0047 - accuracy: 0.9989\n"
     ]
    }
   ],
   "source": [
    "history = model.fit(X_train, y_train, epochs=10)"
   ]
  },
  {
   "cell_type": "code",
   "execution_count": 77,
   "id": "3ec7ec6d",
   "metadata": {},
   "outputs": [],
   "source": [
    "import matplotlib.pyplot as plt"
   ]
  },
  {
   "cell_type": "code",
   "execution_count": 78,
   "id": "8b4870b8",
   "metadata": {},
   "outputs": [
    {
     "data": {
      "image/png": "[encoded data removed]",
      "text/plain": [
       "<Figure size 640x480 with 1 Axes>"
      ]
     },
     "metadata": {},
     "output_type": "display_data"
    }
   ],
   "source": [
    "plt.plot(history.history['accuracy'])\n",
    "plt.plot(history.history['loss'])\n",
    "plt.show()"
   ]
  },
  {
   "cell_type": "code",
   "execution_count": 110,
   "id": "bbc6b964",
   "metadata": {},
   "outputs": [
    {
     "name": "stdout",
     "output_type": "stream",
     "text": [
      "262/262 [==============================] - 2s 7ms/step\n"
     ]
    }
   ],
   "source": [
    "y_pred = np.array([int(x) for x in np.around(model.predict(X_test))])\n",
    "y_test = y_test.reshape(1, -1)[0]"
   ]
  },
  {
   "cell_type": "code",
   "execution_count": 112,
   "id": "90d60ebf",
   "metadata": {},
   "outputs": [
    {
     "data": {
      "text/plain": [
       "0.9991625792558918"
      ]
     },
     "execution_count": 112,
     "metadata": {},
     "output_type": "execute_result"
    }
   ],
   "source": [
    "den = len(y_pred)\n",
    "num = 0\n",
    "for i in range(len(y_pred)):\n",
    "    if y_pred[i] == y_test[i]:\n",
    "        num += 1\n",
    "score = num/den\n",
    "score"
   ]
  },
  {
   "cell_type": "code",
   "execution_count": 115,
   "id": "96ee1092",
   "metadata": {},
   "outputs": [
    {
     "name": "stderr",
     "output_type": "stream",
     "text": [
      "WARNING:absl:Found untraced functions such as _jit_compiled_convolution_op, _jit_compiled_convolution_op, _update_step_xla while saving (showing 3 of 3). These functions will not be directly callable after loading.\n"
     ]
    },
    {
     "name": "stdout",
     "output_type": "stream",
     "text": [
      "INFO:tensorflow:Assets written to: E:\\VS Code Programs\\Python_Codes\\OpenCV\\model\\assets\n"
     ]
    },
    {
     "name": "stderr",
     "output_type": "stream",
     "text": [
      "INFO:tensorflow:Assets written to: E:\\VS Code Programs\\Python_Codes\\OpenCV\\model\\assets\n"
     ]
    }
   ],
   "source": [
    "model.save(\"E:\\\\VS Code Programs\\\\Python_Codes\\\\OpenCV\\\\model\")"
   ]
  }
 ],
 "metadata": {
  "kernelspec": {
   "display_name": "Python 3 (ipykernel)",
   "language": "python",
   "name": "python3"
  },
  "language_info": {
   "codemirror_mode": {
    "name": "ipython",
    "version": 3
   },
   "file_extension": ".py",
   "mimetype": "text/x-python",
   "name": "python",
   "nbconvert_exporter": "python",
   "pygments_lexer": "ipython3",
   "version": "3.10.9"
  }
 },
 "nbformat": 4,
 "nbformat_minor": 5
}
